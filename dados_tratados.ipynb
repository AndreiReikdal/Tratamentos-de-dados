{
 "cells": [
  {
   "cell_type": "markdown",
   "metadata": {},
   "source": [
    "# TRATAMENTO DE DADOS \n",
    "# MODELOS DE MACHINE LEARNING"
   ]
  },
  {
   "cell_type": "markdown",
   "metadata": {},
   "source": [
    "* Carregando Bibliotecas"
   ]
  },
  {
   "cell_type": "code",
   "execution_count": 9,
   "metadata": {},
   "outputs": [],
   "source": [
    "import os\n",
    "import pandas as pd\n",
    "from sklearn.cluster import KMeans\n",
    "from sklearn.model_selection import train_test_split\n",
    "from sklearn.metrics import accuracy_score"
   ]
  },
  {
   "cell_type": "markdown",
   "metadata": {},
   "source": [
    "* Carregando arquivo modelo"
   ]
  },
  {
   "cell_type": "code",
   "execution_count": 4,
   "metadata": {},
   "outputs": [
    {
     "name": "stdout",
     "output_type": "stream",
     "text": [
      "   Atributo 1  Atributo 2  Atributo 3  Atributo 4\n",
      "0     325.635     223.475      89.390       12.77\n",
      "1     312.865     191.550      89.390       12.77\n",
      "2     300.095     204.320      83.005       12.77\n",
      "3     293.710     197.935      95.775       12.77\n",
      "4     319.250     229.860      89.390       12.77\n"
     ]
    }
   ],
   "source": [
    "dados = (r'C:\\\\Users\\Windows 10\\\\Downloads\\\\Desafios estagio IA\\\\tratamento_dados\\\\CSVDados.csv')\n",
    "ler_dados = pd.read_csv(dados) \n",
    "view_dados = ler_dados.head()\n",
    "print(view_dados)"
   ]
  },
  {
   "cell_type": "markdown",
   "metadata": {},
   "source": [
    "* Selecionadondo atributos"
   ]
  },
  {
   "cell_type": "code",
   "execution_count": null,
   "metadata": {},
   "outputs": [],
   "source": [
    "atributos = ler_dados[['Atributo 1', 'Atributo 2', 'Atributo 3', 'Atributo 4']]\n",
    "#print(atributos)"
   ]
  },
  {
   "cell_type": "markdown",
   "metadata": {},
   "source": [
    "* Dividir os dados em conjunto de treinamento e teste"
   ]
  },
  {
   "cell_type": "code",
   "execution_count": 40,
   "metadata": {},
   "outputs": [
    {
     "name": "stdout",
     "output_type": "stream",
     "text": [
      "     Atributo 1  Atributo 2  Atributo 3  Atributo 4\n",
      "22      293.710     229.860      63.850      12.770\n",
      "15      363.945     280.940      95.775      25.540\n",
      "65      427.795     197.935     280.940      89.390\n",
      "11      306.480     217.090     102.160      12.770\n",
      "42      280.940     204.320      83.005      12.770\n",
      "..          ...         ...         ...         ...\n",
      "71      389.485     178.780     255.400      83.005\n",
      "106     312.865     159.625     287.325     108.545\n",
      "14      370.330     255.400      76.620      12.770\n",
      "92      370.330     166.010     255.400      76.620\n",
      "102     453.335     191.550     376.715     134.085\n",
      "\n",
      "[120 rows x 4 columns]      Atributo 1  Atributo 2  Atributo 3  Atributo 4\n",
      "73      389.485     178.780     300.095      76.620\n",
      "18      363.945     242.630     108.545      19.155\n",
      "118     491.645     166.010     440.565     146.855\n",
      "78      383.100     185.165     287.325      95.775\n",
      "76      434.180     178.780     306.480      89.390\n",
      "31      344.790     217.090      95.775      25.540\n",
      "64      357.560     185.165     229.860      83.005\n",
      "141     440.565     197.935     325.635     146.855\n",
      "68      395.870     140.470     287.325      95.775\n",
      "82      370.330     172.395     249.015      76.620\n",
      "110     415.025     204.320     325.635     127.700\n",
      "12      306.480     191.550      89.390       6.385\n",
      "36      351.175     223.475      83.005      12.770\n",
      "9       312.865     197.935      95.775       6.385\n",
      "19      325.635     242.630      95.775      19.155\n",
      "56      402.255     210.705     300.095     102.160\n",
      "104     415.025     191.550     370.330     140.470\n",
      "69      357.560     159.625     249.015      70.235\n",
      "55      363.945     178.780     287.325      83.005\n",
      "132     408.640     178.780     357.560     140.470\n",
      "29      300.095     204.320     102.160      12.770\n",
      "127     389.485     191.550     312.865     114.930\n",
      "26      319.250     217.090     102.160      25.540\n",
      "128     408.640     178.780     357.560     134.085\n",
      "131     504.415     242.630     408.640     127.700\n",
      "145     427.795     191.550     332.020     146.855\n",
      "108     427.795     159.625     370.330     114.930\n",
      "143     434.180     204.320     376.715     146.855\n",
      "45      306.480     191.550      89.390      19.155\n",
      "30      306.480     197.935     102.160      12.770\n"
     ]
    }
   ],
   "source": [
    "X_treino, X_teste = train_test_split(atributos, test_size=0.2, random_state=42)\n",
    "print(X_treino, X_teste)"
   ]
  },
  {
   "cell_type": "markdown",
   "metadata": {},
   "source": [
    "* Criar e treinar o modelo K-Means"
   ]
  },
  {
   "cell_type": "code",
   "execution_count": 37,
   "metadata": {},
   "outputs": [
    {
     "name": "stdout",
     "output_type": "stream",
     "text": [
      "KMeans(n_clusters=3, random_state=42)\n"
     ]
    }
   ],
   "source": [
    "n_grupos = 3\n",
    "modelo_agrupamento = KMeans(n_clusters=n_grupos, random_state=42)\n",
    "ler_dados['Categoria Prevista'] = modelo_agrupamento.fit_predict(atributos)\n",
    "print(modelo_agrupamento)"
   ]
  },
  {
   "cell_type": "markdown",
   "metadata": {},
   "source": [
    "* Fazer previsões no conjunto de teste"
   ]
  },
  {
   "cell_type": "code",
   "execution_count": 38,
   "metadata": {},
   "outputs": [
    {
     "name": "stdout",
     "output_type": "stream",
     "text": [
      "[0 1 2 0 0 1 0 2 0 0 2 1 1 1 1 0 2 0 0 2 1 0 1 2 2 2 2 2 1 1]\n"
     ]
    }
   ],
   "source": [
    "previsoes = modelo_agrupamento.predict(X_teste)\n",
    "print(previsoes)"
   ]
  },
  {
   "cell_type": "markdown",
   "metadata": {},
   "source": [
    "* Mapear os grupos para categorias"
   ]
  },
  {
   "cell_type": "code",
   "execution_count": 39,
   "metadata": {},
   "outputs": [
    {
     "name": "stdout",
     "output_type": "stream",
     "text": [
      "0      Categoria B\n",
      "1      Categoria B\n",
      "2      Categoria B\n",
      "3      Categoria B\n",
      "4      Categoria B\n",
      "          ...     \n",
      "145    Categoria C\n",
      "146    Categoria A\n",
      "147    Categoria C\n",
      "148    Categoria C\n",
      "149    Categoria A\n",
      "Name: Categoria Prevista, Length: 150, dtype: object\n"
     ]
    }
   ],
   "source": [
    "categorias = {0: 'Categoria A', 1: 'Categoria B', 2: 'Categoria C'}\n",
    "d_categoria = ler_dados['Categoria Prevista'].map(categorias)\n",
    "print(d_categoria)"
   ]
  },
  {
   "cell_type": "markdown",
   "metadata": {},
   "source": [
    "* Calcular a precisão das previsões"
   ]
  },
  {
   "cell_type": "code",
   "execution_count": 18,
   "metadata": {},
   "outputs": [
    {
     "name": "stdout",
     "output_type": "stream",
     "text": [
      "Precisão do Modelo: 100.00%\n"
     ]
    }
   ],
   "source": [
    "precisao = accuracy_score(previsoes, modelo_agrupamento.predict(X_teste))\n",
    "print(f\"Precisão do Modelo: {precisao * 100:.2f}%\")"
   ]
  },
  {
   "cell_type": "markdown",
   "metadata": {},
   "source": [
    "* Adicionar as previsões ao DataFrame original"
   ]
  },
  {
   "cell_type": "code",
   "execution_count": 35,
   "metadata": {},
   "outputs": [
    {
     "name": "stdout",
     "output_type": "stream",
     "text": [
      "Grupos e Categorias Formadas:\n",
      "0      Categoria B\n",
      "1      Categoria B\n",
      "2      Categoria B\n",
      "3      Categoria B\n",
      "4      Categoria B\n",
      "          ...     \n",
      "145    Categoria C\n",
      "146    Categoria A\n",
      "147    Categoria C\n",
      "148    Categoria C\n",
      "149    Categoria A\n",
      "Name: Grupo Previsto, Length: 150, dtype: object\n"
     ]
    },
    {
     "name": "stderr",
     "output_type": "stream",
     "text": [
      "c:\\Users\\Windows 10\\anaconda3\\lib\\site-packages\\pandas\\core\\common.py:241: VisibleDeprecationWarning: Creating an ndarray from ragged nested sequences (which is a list-or-tuple of lists-or-tuples-or ndarrays with different lengths or shapes) is deprecated. If you meant to do this, you must specify 'dtype=object' when creating the ndarray.\n",
      "  result = np.asarray(values, dtype=dtype)\n"
     ]
    },
    {
     "ename": "TypeError",
     "evalue": "unhashable type: 'Series'",
     "output_type": "error",
     "traceback": [
      "\u001b[1;31m---------------------------------------------------------------------------\u001b[0m",
      "\u001b[1;31mTypeError\u001b[0m                                 Traceback (most recent call last)",
      "\u001b[1;32m~\\AppData\\Local\\Temp\\ipykernel_13400\\2898349123.py\u001b[0m in \u001b[0;36m<module>\u001b[1;34m\u001b[0m\n\u001b[0;32m      2\u001b[0m \u001b[0mprint\u001b[0m\u001b[1;33m(\u001b[0m\u001b[0md_categoria\u001b[0m\u001b[1;33m)\u001b[0m\u001b[1;33m\u001b[0m\u001b[1;33m\u001b[0m\u001b[0m\n\u001b[0;32m      3\u001b[0m \u001b[1;33m\u001b[0m\u001b[0m\n\u001b[1;32m----> 4\u001b[1;33m \u001b[0mprint\u001b[0m\u001b[1;33m(\u001b[0m\u001b[0mler_dados\u001b[0m\u001b[1;33m[\u001b[0m\u001b[1;33m[\u001b[0m\u001b[1;34m'Atributo 1'\u001b[0m\u001b[1;33m,\u001b[0m \u001b[1;34m'Atributo 2'\u001b[0m\u001b[1;33m,\u001b[0m \u001b[1;34m'Atributo 3'\u001b[0m\u001b[1;33m,\u001b[0m \u001b[1;34m'Atributo 4'\u001b[0m\u001b[1;33m,\u001b[0m \u001b[0md_categoria\u001b[0m\u001b[1;33m,\u001b[0m \u001b[1;34m'Grupo Previsto'\u001b[0m\u001b[1;33m]\u001b[0m\u001b[1;33m]\u001b[0m\u001b[1;33m)\u001b[0m\u001b[1;33m\u001b[0m\u001b[1;33m\u001b[0m\u001b[0m\n\u001b[0m",
      "\u001b[1;32mc:\\Users\\Windows 10\\anaconda3\\lib\\site-packages\\pandas\\core\\frame.py\u001b[0m in \u001b[0;36m__getitem__\u001b[1;34m(self, key)\u001b[0m\n\u001b[0;32m   3509\u001b[0m             \u001b[1;32mif\u001b[0m \u001b[0mis_iterator\u001b[0m\u001b[1;33m(\u001b[0m\u001b[0mkey\u001b[0m\u001b[1;33m)\u001b[0m\u001b[1;33m:\u001b[0m\u001b[1;33m\u001b[0m\u001b[1;33m\u001b[0m\u001b[0m\n\u001b[0;32m   3510\u001b[0m                 \u001b[0mkey\u001b[0m \u001b[1;33m=\u001b[0m \u001b[0mlist\u001b[0m\u001b[1;33m(\u001b[0m\u001b[0mkey\u001b[0m\u001b[1;33m)\u001b[0m\u001b[1;33m\u001b[0m\u001b[1;33m\u001b[0m\u001b[0m\n\u001b[1;32m-> 3511\u001b[1;33m             \u001b[0mindexer\u001b[0m \u001b[1;33m=\u001b[0m \u001b[0mself\u001b[0m\u001b[1;33m.\u001b[0m\u001b[0mcolumns\u001b[0m\u001b[1;33m.\u001b[0m\u001b[0m_get_indexer_strict\u001b[0m\u001b[1;33m(\u001b[0m\u001b[0mkey\u001b[0m\u001b[1;33m,\u001b[0m \u001b[1;34m\"columns\"\u001b[0m\u001b[1;33m)\u001b[0m\u001b[1;33m[\u001b[0m\u001b[1;36m1\u001b[0m\u001b[1;33m]\u001b[0m\u001b[1;33m\u001b[0m\u001b[1;33m\u001b[0m\u001b[0m\n\u001b[0m\u001b[0;32m   3512\u001b[0m \u001b[1;33m\u001b[0m\u001b[0m\n\u001b[0;32m   3513\u001b[0m         \u001b[1;31m# take() does not accept boolean indexers\u001b[0m\u001b[1;33m\u001b[0m\u001b[1;33m\u001b[0m\u001b[0m\n",
      "\u001b[1;32mc:\\Users\\Windows 10\\anaconda3\\lib\\site-packages\\pandas\\core\\indexes\\base.py\u001b[0m in \u001b[0;36m_get_indexer_strict\u001b[1;34m(self, key, axis_name)\u001b[0m\n\u001b[0;32m   5789\u001b[0m \u001b[1;33m\u001b[0m\u001b[0m\n\u001b[0;32m   5790\u001b[0m         \u001b[1;32mif\u001b[0m \u001b[0mself\u001b[0m\u001b[1;33m.\u001b[0m\u001b[0m_index_as_unique\u001b[0m\u001b[1;33m:\u001b[0m\u001b[1;33m\u001b[0m\u001b[1;33m\u001b[0m\u001b[0m\n\u001b[1;32m-> 5791\u001b[1;33m             \u001b[0mindexer\u001b[0m \u001b[1;33m=\u001b[0m \u001b[0mself\u001b[0m\u001b[1;33m.\u001b[0m\u001b[0mget_indexer_for\u001b[0m\u001b[1;33m(\u001b[0m\u001b[0mkeyarr\u001b[0m\u001b[1;33m)\u001b[0m\u001b[1;33m\u001b[0m\u001b[1;33m\u001b[0m\u001b[0m\n\u001b[0m\u001b[0;32m   5792\u001b[0m             \u001b[0mkeyarr\u001b[0m \u001b[1;33m=\u001b[0m \u001b[0mself\u001b[0m\u001b[1;33m.\u001b[0m\u001b[0mreindex\u001b[0m\u001b[1;33m(\u001b[0m\u001b[0mkeyarr\u001b[0m\u001b[1;33m)\u001b[0m\u001b[1;33m[\u001b[0m\u001b[1;36m0\u001b[0m\u001b[1;33m]\u001b[0m\u001b[1;33m\u001b[0m\u001b[1;33m\u001b[0m\u001b[0m\n\u001b[0;32m   5793\u001b[0m         \u001b[1;32melse\u001b[0m\u001b[1;33m:\u001b[0m\u001b[1;33m\u001b[0m\u001b[1;33m\u001b[0m\u001b[0m\n",
      "\u001b[1;32mc:\\Users\\Windows 10\\anaconda3\\lib\\site-packages\\pandas\\core\\indexes\\base.py\u001b[0m in \u001b[0;36mget_indexer_for\u001b[1;34m(self, target)\u001b[0m\n\u001b[0;32m   5776\u001b[0m         \"\"\"\n\u001b[0;32m   5777\u001b[0m         \u001b[1;32mif\u001b[0m \u001b[0mself\u001b[0m\u001b[1;33m.\u001b[0m\u001b[0m_index_as_unique\u001b[0m\u001b[1;33m:\u001b[0m\u001b[1;33m\u001b[0m\u001b[1;33m\u001b[0m\u001b[0m\n\u001b[1;32m-> 5778\u001b[1;33m             \u001b[1;32mreturn\u001b[0m \u001b[0mself\u001b[0m\u001b[1;33m.\u001b[0m\u001b[0mget_indexer\u001b[0m\u001b[1;33m(\u001b[0m\u001b[0mtarget\u001b[0m\u001b[1;33m)\u001b[0m\u001b[1;33m\u001b[0m\u001b[1;33m\u001b[0m\u001b[0m\n\u001b[0m\u001b[0;32m   5779\u001b[0m         \u001b[0mindexer\u001b[0m\u001b[1;33m,\u001b[0m \u001b[0m_\u001b[0m \u001b[1;33m=\u001b[0m \u001b[0mself\u001b[0m\u001b[1;33m.\u001b[0m\u001b[0mget_indexer_non_unique\u001b[0m\u001b[1;33m(\u001b[0m\u001b[0mtarget\u001b[0m\u001b[1;33m)\u001b[0m\u001b[1;33m\u001b[0m\u001b[1;33m\u001b[0m\u001b[0m\n\u001b[0;32m   5780\u001b[0m         \u001b[1;32mreturn\u001b[0m \u001b[0mindexer\u001b[0m\u001b[1;33m\u001b[0m\u001b[1;33m\u001b[0m\u001b[0m\n",
      "\u001b[1;32mc:\\Users\\Windows 10\\anaconda3\\lib\\site-packages\\pandas\\core\\indexes\\base.py\u001b[0m in \u001b[0;36mget_indexer\u001b[1;34m(self, target, method, limit, tolerance)\u001b[0m\n\u001b[0;32m   3790\u001b[0m             )\n\u001b[0;32m   3791\u001b[0m \u001b[1;33m\u001b[0m\u001b[0m\n\u001b[1;32m-> 3792\u001b[1;33m         \u001b[1;32mreturn\u001b[0m \u001b[0mself\u001b[0m\u001b[1;33m.\u001b[0m\u001b[0m_get_indexer\u001b[0m\u001b[1;33m(\u001b[0m\u001b[0mtarget\u001b[0m\u001b[1;33m,\u001b[0m \u001b[0mmethod\u001b[0m\u001b[1;33m,\u001b[0m \u001b[0mlimit\u001b[0m\u001b[1;33m,\u001b[0m \u001b[0mtolerance\u001b[0m\u001b[1;33m)\u001b[0m\u001b[1;33m\u001b[0m\u001b[1;33m\u001b[0m\u001b[0m\n\u001b[0m\u001b[0;32m   3793\u001b[0m \u001b[1;33m\u001b[0m\u001b[0m\n\u001b[0;32m   3794\u001b[0m     def _get_indexer(\n",
      "\u001b[1;32mc:\\Users\\Windows 10\\anaconda3\\lib\\site-packages\\pandas\\core\\indexes\\base.py\u001b[0m in \u001b[0;36m_get_indexer\u001b[1;34m(self, target, method, limit, tolerance)\u001b[0m\n\u001b[0;32m   3815\u001b[0m                 )\n\u001b[0;32m   3816\u001b[0m \u001b[1;33m\u001b[0m\u001b[0m\n\u001b[1;32m-> 3817\u001b[1;33m             \u001b[0mindexer\u001b[0m \u001b[1;33m=\u001b[0m \u001b[0mself\u001b[0m\u001b[1;33m.\u001b[0m\u001b[0m_engine\u001b[0m\u001b[1;33m.\u001b[0m\u001b[0mget_indexer\u001b[0m\u001b[1;33m(\u001b[0m\u001b[0mtgt_values\u001b[0m\u001b[1;33m)\u001b[0m\u001b[1;33m\u001b[0m\u001b[1;33m\u001b[0m\u001b[0m\n\u001b[0m\u001b[0;32m   3818\u001b[0m \u001b[1;33m\u001b[0m\u001b[0m\n\u001b[0;32m   3819\u001b[0m         \u001b[1;32mreturn\u001b[0m \u001b[0mensure_platform_int\u001b[0m\u001b[1;33m(\u001b[0m\u001b[0mindexer\u001b[0m\u001b[1;33m)\u001b[0m\u001b[1;33m\u001b[0m\u001b[1;33m\u001b[0m\u001b[0m\n",
      "\u001b[1;32mc:\\Users\\Windows 10\\anaconda3\\lib\\site-packages\\pandas\\_libs\\index.pyx\u001b[0m in \u001b[0;36mpandas._libs.index.IndexEngine.get_indexer\u001b[1;34m()\u001b[0m\n",
      "\u001b[1;32mpandas\\_libs\\hashtable_class_helper.pxi\u001b[0m in \u001b[0;36mpandas._libs.hashtable.PyObjectHashTable.lookup\u001b[1;34m()\u001b[0m\n",
      "\u001b[1;31mTypeError\u001b[0m: unhashable type: 'Series'"
     ]
    }
   ],
   "source": [
    "\n",
    "print(\"Grupos e Categorias Formadas:\")\n",
    "print(d_categoria)\n",
    "\n",
    "print(ler_dados[['Atributo 1', 'Atributo 2', 'Atributo 3', 'Atributo 4', 'Categoria', 'Grupo Previsto']])"
   ]
  },
  {
   "cell_type": "markdown",
   "metadata": {},
   "source": [
    "* Salvar o DataFrame modificado em um novo arquivo CSV"
   ]
  },
  {
   "cell_type": "code",
   "execution_count": null,
   "metadata": {},
   "outputs": [],
   "source": [
    "dados.to_csv(r'C:\\\\Users\\Windows 10\\\\Downloads\\\\Desafios estagio IA\\\\tratamento_dados\\\\arquivo_modificado.csv', index=False)"
   ]
  }
 ],
 "metadata": {
  "kernelspec": {
   "display_name": "Python 3",
   "language": "python",
   "name": "python3"
  },
  "language_info": {
   "codemirror_mode": {
    "name": "ipython",
    "version": 3
   },
   "file_extension": ".py",
   "mimetype": "text/x-python",
   "name": "python",
   "nbconvert_exporter": "python",
   "pygments_lexer": "ipython3",
   "version": "3.9.13"
  }
 },
 "nbformat": 4,
 "nbformat_minor": 2
}
