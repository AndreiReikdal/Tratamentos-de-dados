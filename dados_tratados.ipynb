{
 "cells": [
  {
   "cell_type": "markdown",
   "metadata": {},
   "source": [
    "# TRATAMENTO DE DADOS \n",
    "# MODELOS DE MACHINE LEARNING"
   ]
  },
  {
   "cell_type": "markdown",
   "metadata": {},
   "source": [
    "* Carregando Bibliotecas"
   ]
  },
  {
   "cell_type": "code",
   "execution_count": 1,
   "metadata": {},
   "outputs": [],
   "source": [
    "import os\n",
    "import pandas as pd\n",
    "from sklearn.cluster import KMeans\n",
    "from sklearn.model_selection import train_test_split\n",
    "from sklearn.metrics import accuracy_score"
   ]
  },
  {
   "cell_type": "markdown",
   "metadata": {},
   "source": [
    "* Carregando arquivo modelo"
   ]
  },
  {
   "cell_type": "code",
   "execution_count": 4,
   "metadata": {},
   "outputs": [
    {
     "name": "stdout",
     "output_type": "stream",
     "text": [
      "     Atributo 1  Atributo 2  Atributo 3  Atributo 4\n",
      "0       325.635     223.475      89.390      12.770\n",
      "1       312.865     191.550      89.390      12.770\n",
      "2       300.095     204.320      83.005      12.770\n",
      "3       293.710     197.935      95.775      12.770\n",
      "4       319.250     229.860      89.390      12.770\n",
      "..          ...         ...         ...         ...\n",
      "145     427.795     191.550     332.020     146.855\n",
      "146     402.255     159.625     319.250     121.315\n",
      "147     415.025     191.550     332.020     127.700\n",
      "148     395.870     217.090     344.790     146.855\n",
      "149     376.715     191.550     325.635     114.930\n",
      "\n",
      "[150 rows x 4 columns]\n"
     ]
    }
   ],
   "source": [
    "caminho_arquivo = (r'C:\\\\Users\\Windows 10\\\\Downloads\\\\Desafios estagio IA\\\\tratamento_dados\\\\CSVDados.csv')\n",
    "dados = pd.read_csv(caminho_arquivo)\n",
    "print(dados)"
   ]
  },
  {
   "cell_type": "markdown",
   "metadata": {},
   "source": [
    "* Selecionadondo atributos"
   ]
  },
  {
   "cell_type": "code",
   "execution_count": 5,
   "metadata": {},
   "outputs": [],
   "source": [
    "atributos = dados[['Atributo 1', 'Atributo 2', 'Atributo 3', 'Atributo 4']]\n",
    "#print(atributos)"
   ]
  },
  {
   "cell_type": "markdown",
   "metadata": {},
   "source": [
    "* Dividir os dados em conjunto de treinamento e teste"
   ]
  },
  {
   "cell_type": "code",
   "execution_count": 6,
   "metadata": {},
   "outputs": [
    {
     "name": "stdout",
     "output_type": "stream",
     "text": [
      "     Atributo 1  Atributo 2  Atributo 3  Atributo 4\n",
      "22      293.710     229.860      63.850      12.770\n",
      "15      363.945     280.940      95.775      25.540\n",
      "65      427.795     197.935     280.940      89.390\n",
      "11      306.480     217.090     102.160      12.770\n",
      "42      280.940     204.320      83.005      12.770\n",
      "..          ...         ...         ...         ...\n",
      "71      389.485     178.780     255.400      83.005\n",
      "106     312.865     159.625     287.325     108.545\n",
      "14      370.330     255.400      76.620      12.770\n",
      "92      370.330     166.010     255.400      76.620\n",
      "102     453.335     191.550     376.715     134.085\n",
      "\n",
      "[120 rows x 4 columns] \n",
      "      Atributo 1  Atributo 2  Atributo 3  Atributo 4\n",
      "73      389.485     178.780     300.095      76.620\n",
      "18      363.945     242.630     108.545      19.155\n",
      "118     491.645     166.010     440.565     146.855\n",
      "78      383.100     185.165     287.325      95.775\n",
      "76      434.180     178.780     306.480      89.390\n",
      "31      344.790     217.090      95.775      25.540\n",
      "64      357.560     185.165     229.860      83.005\n",
      "141     440.565     197.935     325.635     146.855\n",
      "68      395.870     140.470     287.325      95.775\n",
      "82      370.330     172.395     249.015      76.620\n",
      "110     415.025     204.320     325.635     127.700\n",
      "12      306.480     191.550      89.390       6.385\n",
      "36      351.175     223.475      83.005      12.770\n",
      "9       312.865     197.935      95.775       6.385\n",
      "19      325.635     242.630      95.775      19.155\n",
      "56      402.255     210.705     300.095     102.160\n",
      "104     415.025     191.550     370.330     140.470\n",
      "69      357.560     159.625     249.015      70.235\n",
      "55      363.945     178.780     287.325      83.005\n",
      "132     408.640     178.780     357.560     140.470\n",
      "29      300.095     204.320     102.160      12.770\n",
      "127     389.485     191.550     312.865     114.930\n",
      "26      319.250     217.090     102.160      25.540\n",
      "128     408.640     178.780     357.560     134.085\n",
      "131     504.415     242.630     408.640     127.700\n",
      "145     427.795     191.550     332.020     146.855\n",
      "108     427.795     159.625     370.330     114.930\n",
      "143     434.180     204.320     376.715     146.855\n",
      "45      306.480     191.550      89.390      19.155\n",
      "30      306.480     197.935     102.160      12.770\n"
     ]
    }
   ],
   "source": [
    "X_treino, X_teste = train_test_split(atributos, test_size=0.2, random_state=42)\n",
    "print(X_treino,\"\\n\", X_teste)"
   ]
  },
  {
   "cell_type": "markdown",
   "metadata": {},
   "source": [
    "* Criar e treinar o modelo K-Means"
   ]
  },
  {
   "cell_type": "code",
   "execution_count": 7,
   "metadata": {},
   "outputs": [
    {
     "data": {
      "text/plain": [
       "KMeans(n_clusters=3, random_state=42)"
      ]
     },
     "execution_count": 7,
     "metadata": {},
     "output_type": "execute_result"
    }
   ],
   "source": [
    "n_grupos = 3\n",
    "modelo_agrupamento = KMeans(n_clusters=n_grupos, random_state=42)\n",
    "modelo_agrupamento.fit(atributos)"
   ]
  },
  {
   "cell_type": "markdown",
   "metadata": {},
   "source": [
    "* Fazer previsão dos atributos\n"
   ]
  },
  {
   "cell_type": "code",
   "execution_count": 8,
   "metadata": {},
   "outputs": [
    {
     "name": "stdout",
     "output_type": "stream",
     "text": [
      "[1 1 1 1 1 1 1 1 1 1 1 1 1 1 1 1 1 1 1 1 1 1 1 1 1 1 1 1 1 1 1 1 1 1 1 1 1\n",
      " 1 1 1 1 1 1 1 1 1 1 1 1 1 0 0 2 0 0 0 0 0 0 0 0 0 0 0 0 0 0 0 0 0 0 0 0 0\n",
      " 0 0 0 2 0 0 0 0 0 0 0 0 0 0 0 0 0 0 0 0 0 0 0 0 0 0 2 0 2 2 2 2 0 2 2 2 2\n",
      " 2 2 0 0 2 2 2 2 0 2 0 2 0 2 2 0 0 2 2 2 2 2 0 2 2 2 2 0 2 2 2 0 2 2 2 0 2\n",
      " 2 0]\n"
     ]
    }
   ],
   "source": [
    "atr = dados['Categoria'] = modelo_agrupamento.predict(atributos)\n",
    "print(atr)"
   ]
  },
  {
   "cell_type": "markdown",
   "metadata": {},
   "source": [
    "* Fazer previsões no conjunto de teste"
   ]
  },
  {
   "cell_type": "code",
   "execution_count": 9,
   "metadata": {},
   "outputs": [
    {
     "name": "stdout",
     "output_type": "stream",
     "text": [
      "[0 1 2 0 0 1 0 2 0 0 2 1 1 1 1 0 2 0 0 2 1 0 1 2 2 2 2 2 1 1]\n"
     ]
    }
   ],
   "source": [
    "previsoes = modelo_agrupamento.predict(X_teste)\n",
    "print(previsoes)"
   ]
  },
  {
   "cell_type": "markdown",
   "metadata": {},
   "source": [
    "* Mapear os grupos para categorias"
   ]
  },
  {
   "cell_type": "code",
   "execution_count": 10,
   "metadata": {},
   "outputs": [
    {
     "name": "stdout",
     "output_type": "stream",
     "text": [
      "0      Categoria B\n",
      "1      Categoria B\n",
      "2      Categoria B\n",
      "3      Categoria B\n",
      "4      Categoria B\n",
      "          ...     \n",
      "145    Categoria C\n",
      "146    Categoria A\n",
      "147    Categoria C\n",
      "148    Categoria C\n",
      "149    Categoria A\n",
      "Name: Categoria, Length: 150, dtype: object\n"
     ]
    }
   ],
   "source": [
    "categorias = {0: 'Categoria A', 1: 'Categoria B', 2: 'Categoria C'}\n",
    "d_categoria = dados['Categoria'].map(categorias)\n",
    "print(d_categoria)\n"
   ]
  },
  {
   "cell_type": "markdown",
   "metadata": {},
   "source": [
    "* Mapear os valores numéricos para strings representando os grupos\n"
   ]
  },
  {
   "cell_type": "code",
   "execution_count": 11,
   "metadata": {},
   "outputs": [
    {
     "name": "stdout",
     "output_type": "stream",
     "text": [
      "0      Grupo B\n",
      "1      Grupo B\n",
      "2      Grupo B\n",
      "3      Grupo B\n",
      "4      Grupo B\n",
      "        ...   \n",
      "145    Grupo C\n",
      "146    Grupo A\n",
      "147    Grupo C\n",
      "148    Grupo C\n",
      "149    Grupo A\n",
      "Name: Categoria, Length: 150, dtype: object\n"
     ]
    }
   ],
   "source": [
    "var = dados['Categoria'] = dados['Categoria'].map({0: 'Grupo A', 1: 'Grupo B', 2: 'Grupo C'})\n",
    "print(var)\n"
   ]
  },
  {
   "cell_type": "markdown",
   "metadata": {},
   "source": [
    "* Calcular a precisão das previsões"
   ]
  },
  {
   "cell_type": "code",
   "execution_count": 12,
   "metadata": {},
   "outputs": [
    {
     "name": "stdout",
     "output_type": "stream",
     "text": [
      "Precisão do Modelo: 100.00%\n"
     ]
    }
   ],
   "source": [
    "precisao = accuracy_score(previsoes, modelo_agrupamento.predict(X_teste))\n",
    "print(f\"Precisão do Modelo: {precisao * 100:.2f}%\")"
   ]
  },
  {
   "cell_type": "markdown",
   "metadata": {},
   "source": [
    "* Adicionar as previsões ao DataFrame original e visualizar os atributos e as categorias , nomeados com os Grupos A, B e C."
   ]
  },
  {
   "cell_type": "code",
   "execution_count": 13,
   "metadata": {},
   "outputs": [
    {
     "name": "stdout",
     "output_type": "stream",
     "text": [
      "\n",
      "Atributos e Categoria Prevista:\n",
      "     Atributo 1  Atributo 2  Atributo 3  Atributo 4 Categoria\n",
      "0       325.635     223.475      89.390      12.770   Grupo B\n",
      "1       312.865     191.550      89.390      12.770   Grupo B\n",
      "2       300.095     204.320      83.005      12.770   Grupo B\n",
      "3       293.710     197.935      95.775      12.770   Grupo B\n",
      "4       319.250     229.860      89.390      12.770   Grupo B\n",
      "..          ...         ...         ...         ...       ...\n",
      "145     427.795     191.550     332.020     146.855   Grupo C\n",
      "146     402.255     159.625     319.250     121.315   Grupo A\n",
      "147     415.025     191.550     332.020     127.700   Grupo C\n",
      "148     395.870     217.090     344.790     146.855   Grupo C\n",
      "149     376.715     191.550     325.635     114.930   Grupo A\n",
      "\n",
      "[150 rows x 5 columns]\n"
     ]
    }
   ],
   "source": [
    "print(\"\\nAtributos e Categoria Prevista:\")\n",
    "print(dados[['Atributo 1', 'Atributo 2', 'Atributo 3', 'Atributo 4', 'Categoria']])"
   ]
  },
  {
   "cell_type": "markdown",
   "metadata": {},
   "source": [
    "* Salvar o DataFrame modificado em um novo arquivo CSV"
   ]
  },
  {
   "cell_type": "code",
   "execution_count": null,
   "metadata": {},
   "outputs": [],
   "source": [
    "dados.to_csv(r'C:\\\\Users\\Windows 10\\\\Downloads\\\\Desafios estagio IA\\\\tratamento_dados\\\\arquivo_treinado.csv', index=False)"
   ]
  }
 ],
 "metadata": {
  "kernelspec": {
   "display_name": "Python 3",
   "language": "python",
   "name": "python3"
  },
  "language_info": {
   "codemirror_mode": {
    "name": "ipython",
    "version": 3
   },
   "file_extension": ".py",
   "mimetype": "text/x-python",
   "name": "python",
   "nbconvert_exporter": "python",
   "pygments_lexer": "ipython3",
   "version": "3.9.13"
  }
 },
 "nbformat": 4,
 "nbformat_minor": 2
}
